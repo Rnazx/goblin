{
 "cells": [
  {
   "cell_type": "code",
   "execution_count": 1,
   "metadata": {},
   "outputs": [],
   "source": [
    "import os\n",
    "current_directory = str(os.getcwd())"
   ]
  },
  {
   "cell_type": "code",
   "execution_count": 8,
   "metadata": {},
   "outputs": [],
   "source": [
    "import numpy as np\n",
    "from sympy import *\n",
    "from fractions import Fraction\n",
    "import pickle\n",
    "from scipy.interpolate import griddata\n",
    "import pandas as pd\n",
    "\n",
    "\n",
    "#converting from 2nd unit to 1st\n",
    "pc_kpc = 1e3  # number of pc in one kpc\n",
    "cm_km = 1e5  # number of cm in one km\n",
    "s_day = 24*3600  # number of seconds in one day\n",
    "s_min = 60  # number of seconds in one hour\n",
    "s_hr = 3600  # number of seconds in one hour\n",
    "cm_Rsun = 6.957e10  # solar radius in cm\n",
    "g_Msun = 1.989e33  # solar mass in g\n",
    "cgs_G = 6.674e-8\n",
    "cms_c = 2.998e10\n",
    "g_mH = 1.6736e-24\n",
    "g_me = 9.10938e-28\n",
    "cgs_h = 6.626e-27\n",
    "deg_rad = 180e0/np.pi\n",
    "arcmin_deg = 60e0\n",
    "arcsec_deg = 3600e0\n",
    "cm_kpc = 3.086e+21  # number of centimeters in one parsec\n",
    "cm_pc = cm_kpc/1e+3\n",
    "s_Myr = 1e+6*(365*24*60*60)  # megayears to seconds\n",
    "\n",
    "#REQUIRED FUNCTIONS\n",
    "###########################################################################################################################################\n",
    "#importing data from csv file to np array\n",
    "def file_reader(list_of_file_names):\n",
    "    dataframe_list=[]\n",
    "    for i in list_of_file_names:\n",
    "        df = pd.read_csv(current_directory+r'\\{}.dat'.format(i),delimiter=',')\n",
    "        dataframe_list.append(df)\n",
    "    return dataframe_list\n",
    "\n",
    "#extrapolation\n",
    "def interpolation(list1,list2,standard):\n",
    "    interpolated_data = griddata(list1, list2, standard, method='linear', fill_value=nan, rescale=False)\n",
    "    return interpolated_data\n",
    "###########################################################################################################################################\n",
    "os.chdir(current_directory+'\\M31_data')\n",
    "raw_data = pd.read_csv('combined_data_m31.csv', skiprows=1)\n",
    "os.chdir(current_directory)"
   ]
  },
  {
   "cell_type": "code",
   "execution_count": null,
   "metadata": {},
   "outputs": [],
   "source": [
    "#to obtain radius data from every df\n",
    "distance_m31= 0.78 #Mpc\n",
    "distances_Mpc=[0.785,0.785,0.785,0.785,0.785,0.785,0.780,0.780,0.785,0.785]\n",
    "r_col_names=['r kpc','r arcmin','r kpc','r arcmin','r arcmin','r kpc','r kpc','r arcmin','r arcsec','r arcsec']\n",
    "radius_conv_corr=[distance_m31/distances_Mpc[0],(1/(arcmin_deg*deg_rad))*(distance_m31*1000),distance_m31/distances_Mpc[2],\n",
    "                  (1/(arcmin_deg*deg_rad))*(distance_m31*1000),(1/(arcmin_deg*deg_rad))*(distance_m31*1000),distance_m31/distances_Mpc[5],\n",
    "                  distance_m31/distances_Mpc[6],(1/(arcmin_deg*deg_rad))*(distance_m31*1000),(1/(60*arcmin_deg*deg_rad))*(distance_m31*1000),\n",
    "                  (1/(60*arcmin_deg*deg_rad))*(distance_m31*1000)] \n",
    "\n",
    "#obtain arrays of quantities\n",
    "col_names=['sigma_tot','sigma_HI','sigma_HI','vcirc kms','error kms','vcirc kms',\n",
    "           'sigma_sfr','molfrac','vdisp kms no_warp','vdisp kms warp']\n",
    "conv_factors=[(g_Msun/(cm_pc**2) ), g_Msun/(cm_pc**2), g_Msun/(cm_pc**2), 1,1,1,\n",
    "              g_Msun/((s_Myr*10**(3))*(cm_pc**2)),1, (3**0.5),(3**0.5)] #last term to make 3D vdisp\n"
   ]
  }
 ],
 "metadata": {
  "kernelspec": {
   "display_name": "Python 3",
   "language": "python",
   "name": "python3"
  },
  "language_info": {
   "codemirror_mode": {
    "name": "ipython",
    "version": 3
   },
   "file_extension": ".py",
   "mimetype": "text/x-python",
   "name": "python",
   "nbconvert_exporter": "python",
   "pygments_lexer": "ipython3",
   "version": "3.11.5"
  },
  "orig_nbformat": 4
 },
 "nbformat": 4,
 "nbformat_minor": 2
}
